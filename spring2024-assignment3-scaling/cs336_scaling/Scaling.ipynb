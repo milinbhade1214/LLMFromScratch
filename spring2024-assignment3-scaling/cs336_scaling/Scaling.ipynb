{
 "cells": [
  {
   "cell_type": "code",
   "execution_count": 1,
   "id": "3511bda2-fb89-4de7-8496-5f2f60677698",
   "metadata": {},
   "outputs": [],
   "source": [
    "import json\n",
    "import numpy as np\n",
    "from scipy.optimize import curve_fit\n",
    "import matplotlib.pyplot as plt\n",
    "\n",
    "# Step 1: Load JSON Data\n",
    "with open(\"../data/isoflops_curves.json\", \"r\") as file:\n",
    "    data = json.load(file)\n"
   ]
  },
  {
   "cell_type": "code",
   "execution_count": 2,
   "id": "301d87da-a5f3-40a1-a35e-61a8744f1a65",
   "metadata": {},
   "outputs": [],
   "source": [
    "import matplotlib.pyplot as plt\n",
    "\n",
    "def plot_values(x, y, xlabel=\"X-axis\", ylabel=\"Y-axis\", title=\"Plot\", color=\"blue\", marker=\"o\", line_style=\"-\"):\n",
    "    if len(x) != len(y):\n",
    "        raise ValueError(\"x and y must have the same length\")\n",
    "    \n",
    "    plt.figure(figsize=(8, 5))\n",
    "    plt.plot(x, y, color=color, marker=marker, linestyle=line_style, label=\"Data\")\n",
    "    plt.xlabel(xlabel)\n",
    "    plt.ylabel(ylabel)\n",
    "    plt.title(title)\n",
    "    plt.legend()\n",
    "    plt.grid(True)\n",
    "    plt.show()"
   ]
  },
  {
   "cell_type": "code",
   "execution_count": 3,
   "id": "6d49a199-4b00-4708-ac7c-e5201cc23080",
   "metadata": {},
   "outputs": [],
   "source": [
    "# Plot func\n",
    "from functools import partial\n",
    "\n",
    "def plot_function(func, x_range, xlabel=\"X-axis\", ylabel=\"Y-axis\", title=\"Function Plot\", color=\"blue\", **kwargs):\n",
    "    # Reorder the function so x becomes the first argument\n",
    "    reordered_func = partial(func, **kwargs)\n",
    "    \n",
    "    # Generate x values\n",
    "    x = np.linspace(x_range[0], x_range[1], 500)\n",
    "    \n",
    "    # Evaluate the function\n",
    "    y = reordered_func(x)\n",
    "    \n",
    "    # Plot the function\n",
    "    plt.figure(figsize=(8, 5))\n",
    "    plt.plot(x, y, color=color, label=f'{func.__name__} with params {kwargs}')\n",
    "    plt.xlabel(xlabel)\n",
    "    plt.ylabel(ylabel)\n",
    "    plt.title(title)\n",
    "    plt.grid(True)\n",
    "    plt.legend()\n",
    "    plt.show()"
   ]
  },
  {
   "cell_type": "code",
   "execution_count": null,
   "id": "06635f47-be26-4953-bef6-40920d1064df",
   "metadata": {},
   "outputs": [],
   "source": []
  },
  {
   "cell_type": "code",
   "execution_count": null,
   "id": "57872a61-1ed3-4625-aa6e-55b21b0c6905",
   "metadata": {},
   "outputs": [],
   "source": []
  },
  {
   "cell_type": "code",
   "execution_count": 4,
   "id": "7d07ae44-a31d-41b1-8aec-7189b1a18068",
   "metadata": {},
   "outputs": [],
   "source": [
    "compute_budgets = {}\n",
    "for run in data:\n",
    "    budget = run[\"compute_budget\"]\n",
    "    if budget not in compute_budgets:\n",
    "        compute_budgets[budget] = []\n",
    "    compute_budgets[budget].append(run)\n"
   ]
  },
  {
   "cell_type": "code",
   "execution_count": null,
   "id": "bcd8855d-62e3-463b-8596-9ab1a1fe1fba",
   "metadata": {},
   "outputs": [],
   "source": [
    "\n"
   ]
  },
  {
   "cell_type": "code",
   "execution_count": 5,
   "id": "cae657e3-8f36-4d10-a4dc-beb49a523493",
   "metadata": {
    "scrolled": true
   },
   "outputs": [
    {
     "data": {
      "text/plain": [
       "{6e+18: [{'parameters': 49999999,\n",
       "   'compute_budget': 6e+18,\n",
       "   'final_loss': 7.192784500319437},\n",
       "  {'parameters': 78730505,\n",
       "   'compute_budget': 6e+18,\n",
       "   'final_loss': 6.750171320661809},\n",
       "  {'parameters': 123969849,\n",
       "   'compute_budget': 6e+18,\n",
       "   'final_loss': 6.406639752150447},\n",
       "  {'parameters': 195204177,\n",
       "   'compute_budget': 6e+18,\n",
       "   'final_loss': 6.154368665155925},\n",
       "  {'parameters': 307370470,\n",
       "   'compute_budget': 6e+18,\n",
       "   'final_loss': 5.987783393573661},\n",
       "  {'parameters': 483988649,\n",
       "   'compute_budget': 6e+18,\n",
       "   'final_loss': 5.903434642394701},\n",
       "  {'parameters': 762093419,\n",
       "   'compute_budget': 6e+18,\n",
       "   'final_loss': 5.899930270214304},\n",
       "  {'parameters': 1200000000,\n",
       "   'compute_budget': 6e+18,\n",
       "   'final_loss': 5.977918696411691}],\n",
       " 1e+19: [{'parameters': 83333333,\n",
       "   'compute_budget': 1e+19,\n",
       "   'final_loss': 6.575071254529126},\n",
       "  {'parameters': 131217508,\n",
       "   'compute_budget': 1e+19,\n",
       "   'final_loss': 6.220815025174462},\n",
       "  {'parameters': 206616415,\n",
       "   'compute_budget': 1e+19,\n",
       "   'final_loss': 5.9530019364135125},\n",
       "  {'parameters': 325340296,\n",
       "   'compute_budget': 1e+19,\n",
       "   'final_loss': 5.765618650051031},\n",
       "  {'parameters': 512284118,\n",
       "   'compute_budget': 1e+19,\n",
       "   'final_loss': 5.654639707131759},\n",
       "  {'parameters': 806647749,\n",
       "   'compute_budget': 1e+19,\n",
       "   'final_loss': 5.617943423092358},\n",
       "  {'parameters': 1270155698,\n",
       "   'compute_budget': 1e+19,\n",
       "   'final_loss': 5.655275367192594},\n",
       "  {'parameters': 2000000000,\n",
       "   'compute_budget': 1e+19,\n",
       "   'final_loss': 5.768258932728475}],\n",
       " 3e+19: [{'parameters': 249999999,\n",
       "   'compute_budget': 3e+19,\n",
       "   'final_loss': 5.559968737386354},\n",
       "  {'parameters': 393652526,\n",
       "   'compute_budget': 3e+19,\n",
       "   'final_loss': 5.350911535688679},\n",
       "  {'parameters': 619849246,\n",
       "   'compute_budget': 3e+19,\n",
       "   'final_loss': 5.207528382521117},\n",
       "  {'parameters': 976020888,\n",
       "   'compute_budget': 3e+19,\n",
       "   'final_loss': 5.126776725320434},\n",
       "  {'parameters': 1536852354,\n",
       "   'compute_budget': 3e+19,\n",
       "   'final_loss': 5.107176953205009},\n",
       "  {'parameters': 2419943249,\n",
       "   'compute_budget': 3e+19,\n",
       "   'final_loss': 5.148789074677523},\n",
       "  {'parameters': 3810467096,\n",
       "   'compute_budget': 3e+19,\n",
       "   'final_loss': 5.253228285344907},\n",
       "  {'parameters': 6000000000,\n",
       "   'compute_budget': 3e+19,\n",
       "   'final_loss': 5.423720175774838}],\n",
       " 6e+19: [{'parameters': 499999999,\n",
       "   'compute_budget': 6e+19,\n",
       "   'final_loss': 5.089329704378221},\n",
       "  {'parameters': 787305053,\n",
       "   'compute_budget': 6e+19,\n",
       "   'final_loss': 4.947592136723572},\n",
       "  {'parameters': 1239698493,\n",
       "   'compute_budget': 6e+19,\n",
       "   'final_loss': 4.861899299140854},\n",
       "  {'parameters': 1952041776,\n",
       "   'compute_budget': 6e+19,\n",
       "   'final_loss': 4.830586005050577},\n",
       "  {'parameters': 3073704708,\n",
       "   'compute_budget': 6e+19,\n",
       "   'final_loss': 4.853352992802183},\n",
       "  {'parameters': 4839886498,\n",
       "   'compute_budget': 6e+19,\n",
       "   'final_loss': 4.931271784413071},\n",
       "  {'parameters': 7620934193,\n",
       "   'compute_budget': 6e+19,\n",
       "   'final_loss': 5.0668244033437695},\n",
       "  {'parameters': 12000000000,\n",
       "   'compute_budget': 6e+19,\n",
       "   'final_loss': 5.263979278015171}],\n",
       " 1e+20: [{'parameters': 833333333,\n",
       "   'compute_budget': 1e+20,\n",
       "   'final_loss': 4.806980275158798},\n",
       "  {'parameters': 1312175088,\n",
       "   'compute_budget': 1e+20,\n",
       "   'final_loss': 4.705629625958023},\n",
       "  {'parameters': 2066164155,\n",
       "   'compute_budget': 1e+20,\n",
       "   'final_loss': 4.6545468112048125},\n",
       "  {'parameters': 3253402960,\n",
       "   'compute_budget': 1e+20,\n",
       "   'final_loss': 4.6528929644335255},\n",
       "  {'parameters': 5122841181,\n",
       "   'compute_budget': 1e+20,\n",
       "   'final_loss': 4.701076948284828},\n",
       "  {'parameters': 8066477497,\n",
       "   'compute_budget': 1e+20,\n",
       "   'final_loss': 4.80077711983122},\n",
       "  {'parameters': 12701556988,\n",
       "   'compute_budget': 1e+20,\n",
       "   'final_loss': 4.9549955366411735},\n",
       "  {'parameters': 20000000000,\n",
       "   'compute_budget': 1e+20,\n",
       "   'final_loss': 5.168146276198128}],\n",
       " 3e+20: [{'parameters': 249999999,\n",
       "   'compute_budget': 3e+20,\n",
       "   'final_loss': 5.205881194823879},\n",
       "  {'parameters': 423453495,\n",
       "   'compute_budget': 3e+20,\n",
       "   'final_loss': 4.895475889166138},\n",
       "  {'parameters': 717251449,\n",
       "   'compute_budget': 3e+20,\n",
       "   'final_loss': 4.657360013937843},\n",
       "  {'parameters': 1214890532,\n",
       "   'compute_budget': 3e+20,\n",
       "   'final_loss': 4.48413963602612},\n",
       "  {'parameters': 2057798568,\n",
       "   'compute_budget': 3e+20,\n",
       "   'final_loss': 4.370566350456171},\n",
       "  {'parameters': 3485527984,\n",
       "   'compute_budget': 3e+20,\n",
       "   'final_loss': 4.313380158267966},\n",
       "  {'parameters': 5903836027,\n",
       "   'compute_budget': 3e+20,\n",
       "   'final_loss': 4.311218819265305},\n",
       "  {'parameters': 10000000000,\n",
       "   'compute_budget': 3e+20,\n",
       "   'final_loss': 4.364591277621534}],\n",
       " 6e+20: [{'parameters': 499999999,\n",
       "   'compute_budget': 6e+20,\n",
       "   'final_loss': 4.735242161815744},\n",
       "  {'parameters': 846906990,\n",
       "   'compute_budget': 6e+20,\n",
       "   'final_loss': 4.502040337947893},\n",
       "  {'parameters': 1434502899,\n",
       "   'compute_budget': 6e+20,\n",
       "   'final_loss': 4.328463509172736},\n",
       "  {'parameters': 2429781065,\n",
       "   'compute_budget': 6e+20,\n",
       "   'final_loss': 4.209195212443264},\n",
       "  {'parameters': 4115597137,\n",
       "   'compute_budget': 6e+20,\n",
       "   'final_loss': 4.140723725301801},\n",
       "  {'parameters': 6971055968,\n",
       "   'compute_budget': 6e+20,\n",
       "   'final_loss': 4.121240846441071},\n",
       "  {'parameters': 11807672055,\n",
       "   'compute_budget': 6e+20,\n",
       "   'final_loss': 4.150597980878527},\n",
       "  {'parameters': 20000000000,\n",
       "   'compute_budget': 6e+20,\n",
       "   'final_loss': 4.230318632014712}],\n",
       " 1e+21: [{'parameters': 833333333,\n",
       "   'compute_budget': 1e+21,\n",
       "   'final_loss': 4.452892732596323},\n",
       "  {'parameters': 1411511650,\n",
       "   'compute_budget': 1e+21,\n",
       "   'final_loss': 4.2660074219972515},\n",
       "  {'parameters': 2390838165,\n",
       "   'compute_budget': 1e+21,\n",
       "   'final_loss': 4.131149359942182},\n",
       "  {'parameters': 4049635109,\n",
       "   'compute_budget': 1e+21,\n",
       "   'final_loss': 4.044248415384168},\n",
       "  {'parameters': 6859328563,\n",
       "   'compute_budget': 1e+21,\n",
       "   'final_loss': 4.002834749948777},\n",
       "  {'parameters': 11618426614,\n",
       "   'compute_budget': 1e+21,\n",
       "   'final_loss': 4.005971136068369},\n",
       "  {'parameters': 19679453425,\n",
       "   'compute_budget': 1e+21,\n",
       "   'final_loss': 4.054237078236464},\n",
       "  {'parameters': 33333333333,\n",
       "   'compute_budget': 1e+21,\n",
       "   'final_loss': 4.149764742116224}],\n",
       " 3e+21: [{'parameters': 2499999999,\n",
       "   'compute_budget': 3e+21,\n",
       "   'final_loss': 3.9889013607620307},\n",
       "  {'parameters': 4234534950,\n",
       "   'compute_budget': 3e+21,\n",
       "   'final_loss': 3.8781290516645894},\n",
       "  {'parameters': 7172514497,\n",
       "   'compute_budget': 3e+21,\n",
       "   'final_loss': 3.806898437824491},\n",
       "  {'parameters': 12148905329,\n",
       "   'compute_budget': 3e+21,\n",
       "   'final_loss': 3.773187514504335},\n",
       "  {'parameters': 20577985689,\n",
       "   'compute_budget': 3e+21,\n",
       "   'final_loss': 3.776238595631232},\n",
       "  {'parameters': 34855279842,\n",
       "   'compute_budget': 3e+21,\n",
       "   'final_loss': 3.8165457450037117},\n",
       "  {'parameters': 59038360277,\n",
       "   'compute_budget': 3e+21,\n",
       "   'final_loss': 3.8958849698872884},\n",
       "  {'parameters': 100000000000,\n",
       "   'compute_budget': 3e+21,\n",
       "   'final_loss': 4.017388664771504}]}"
      ]
     },
     "execution_count": 5,
     "metadata": {},
     "output_type": "execute_result"
    }
   ],
   "source": [
    "compute_budgets"
   ]
  },
  {
   "cell_type": "code",
   "execution_count": 6,
   "id": "f3fe9059-4b1a-4946-996d-e406dbe4f350",
   "metadata": {},
   "outputs": [
    {
     "name": "stdout",
     "output_type": "stream",
     "text": [
      "[(6e+18, 762093419), (1e+19, 806647749), (3e+19, 1536852354), (6e+19, 1952041776), (1e+20, 3253402960), (3e+20, 5903836027), (6e+20, 6971055968), (1e+21, 6859328563), (3e+21, 12148905329)]\n"
     ]
    }
   ],
   "source": [
    "NC_pairs = []\n",
    "for C, datapoint in compute_budgets.items():\n",
    "    min_N = 0\n",
    "    ls = []\n",
    "    for e in datapoint:\n",
    "        ls.append((e['final_loss'], e['parameters']))\n",
    "    # print(ls)\n",
    "    min_pair = min(ls)\n",
    "    NC_pairs.append((C, min_pair[1]))\n",
    "print(NC_pairs)    "
   ]
  },
  {
   "cell_type": "code",
   "execution_count": 7,
   "id": "822029d3-a61f-4359-80f5-bcc9c1b485ab",
   "metadata": {},
   "outputs": [],
   "source": [
    "Nopt = [j for (i, j) in NC_pairs]\n",
    "C = [i for (i, j) in NC_pairs] \n"
   ]
  },
  {
   "cell_type": "code",
   "execution_count": 8,
   "id": "6e782d4f-8d76-4f6c-a88d-ae50ccdcb66e",
   "metadata": {},
   "outputs": [
    {
     "data": {
      "text/plain": [
       "[762093419,\n",
       " 806647749,\n",
       " 1536852354,\n",
       " 1952041776,\n",
       " 3253402960,\n",
       " 5903836027,\n",
       " 6971055968,\n",
       " 6859328563,\n",
       " 12148905329]"
      ]
     },
     "execution_count": 8,
     "metadata": {},
     "output_type": "execute_result"
    }
   ],
   "source": [
    "Nopt"
   ]
  },
  {
   "cell_type": "code",
   "execution_count": 9,
   "id": "7156cf6c-b321-4057-9568-d9bcc2aae97e",
   "metadata": {},
   "outputs": [],
   "source": [
    "Dopt = [c / (6 * n) for c, n in zip(C, Nopt)]"
   ]
  },
  {
   "cell_type": "code",
   "execution_count": 10,
   "id": "98b660f9-2460-4b71-a579-d1df62e6e882",
   "metadata": {},
   "outputs": [
    {
     "data": {
      "text/plain": [
       "[1312175089.1277542,\n",
       " 2066164157.4439783,\n",
       " 3253402961.5703735,\n",
       " 5122841182.472726,\n",
       " 5122841182.472726,\n",
       " 8469069901.558091,\n",
       " 14345028996.903902,\n",
       " 24297810658.27429,\n",
       " 41155971378.46459]"
      ]
     },
     "execution_count": 10,
     "metadata": {},
     "output_type": "execute_result"
    }
   ],
   "source": [
    "Dopt"
   ]
  },
  {
   "cell_type": "code",
   "execution_count": 11,
   "id": "dbc8f2e1-2f02-4a42-b1f5-ecfec9fb8460",
   "metadata": {},
   "outputs": [
    {
     "data": {
      "text/plain": [
       "[6e+18, 1e+19, 3e+19, 6e+19, 1e+20, 3e+20, 6e+20, 1e+21, 3e+21]"
      ]
     },
     "execution_count": 11,
     "metadata": {},
     "output_type": "execute_result"
    }
   ],
   "source": [
    "C"
   ]
  },
  {
   "cell_type": "code",
   "execution_count": 12,
   "id": "03b9a1d6-febb-4ff9-89be-4a362a1cf2a8",
   "metadata": {},
   "outputs": [],
   "source": [
    "def model_Nopt(C, k1, alpha):\n",
    "    return k1 * C ** alpha"
   ]
  },
  {
   "cell_type": "code",
   "execution_count": 13,
   "id": "7cd9bb49-47f5-4254-9e8a-15f5b319c83a",
   "metadata": {},
   "outputs": [],
   "source": [
    "def model_Dopt(C, k2, beta):\n",
    "    return k2 * C ** beta"
   ]
  },
  {
   "cell_type": "code",
   "execution_count": 14,
   "id": "743637d8-70cc-4536-b669-b8cd4c2f5ec1",
   "metadata": {},
   "outputs": [],
   "source": [
    "popt, pcov = curve_fit(model_Nopt, C, Nopt)"
   ]
  },
  {
   "cell_type": "code",
   "execution_count": 15,
   "id": "526dba81-295b-4ece-ac4b-e0722b5aff52",
   "metadata": {
    "scrolled": true
   },
   "outputs": [
    {
     "name": "stdout",
     "output_type": "stream",
     "text": [
      "Fitted parameters: k1 = 25.792969820657884, alpha = 0.4038113885203321\n"
     ]
    }
   ],
   "source": [
    "k1, alpha = popt\n",
    "print(f\"Fitted parameters: k1 = {k1}, alpha = {alpha}\")"
   ]
  },
  {
   "cell_type": "code",
   "execution_count": 16,
   "id": "77606332-b9dc-4f4d-a009-95e0bc14caeb",
   "metadata": {},
   "outputs": [],
   "source": [
    "N = model_Nopt(10**23, k1, alpha)"
   ]
  },
  {
   "cell_type": "code",
   "execution_count": 17,
   "id": "c690e08b-d29d-41c8-9f76-abbfbe5284bc",
   "metadata": {},
   "outputs": [
    {
     "data": {
      "text/plain": [
       "50.02225732128556"
      ]
     },
     "execution_count": 17,
     "metadata": {},
     "output_type": "execute_result"
    }
   ],
   "source": [
    "N/10**9"
   ]
  },
  {
   "cell_type": "code",
   "execution_count": 18,
   "id": "ec0ae540-8568-4879-bbb9-97617894ad9b",
   "metadata": {},
   "outputs": [
    {
     "data": {
      "text/plain": [
       "126.75779459432579"
      ]
     },
     "execution_count": 18,
     "metadata": {},
     "output_type": "execute_result"
    }
   ],
   "source": [
    "N = model_Nopt(10**24, k1, alpha)\n",
    "N/10**9"
   ]
  },
  {
   "cell_type": "code",
   "execution_count": 19,
   "id": "cab8627f-ec1a-4020-a443-65183b3a209c",
   "metadata": {},
   "outputs": [
    {
     "data": {
      "image/png": "[encoded data removed]",
      "text/plain": [
       "<Figure size 800x500 with 1 Axes>"
      ]
     },
     "metadata": {},
     "output_type": "display_data"
    }
   ],
   "source": [
    "plot_values(C, Nopt)"
   ]
  },
  {
   "cell_type": "code",
   "execution_count": 20,
   "id": "a8057511-5fc6-4c87-85ce-127f4a17b71c",
   "metadata": {},
   "outputs": [
    {
     "data": {
      "image/png": "[encoded data removed]",
      "text/plain": [
       "<Figure size 800x500 with 1 Axes>"
      ]
     },
     "metadata": {},
     "output_type": "display_data"
    }
   ],
   "source": [
    "plot_function(model_Nopt, x_range=[1e10, 1e21], k1=k1, alpha=alpha)"
   ]
  },
  {
   "cell_type": "code",
   "execution_count": null,
   "id": "210570ec-8a8b-4628-8836-27f73bcd839e",
   "metadata": {},
   "outputs": [],
   "source": []
  },
  {
   "cell_type": "code",
   "execution_count": null,
   "id": "76141627-51e7-4812-bb9f-614beff58f30",
   "metadata": {},
   "outputs": [],
   "source": []
  },
  {
   "cell_type": "code",
   "execution_count": 21,
   "id": "02eb7eec-477d-46bc-ac31-8e8be5d3f5c5",
   "metadata": {},
   "outputs": [
    {
     "data": {
      "text/plain": [
       "(0.0063375897217456964, 0.5967707035165725)"
      ]
     },
     "execution_count": 21,
     "metadata": {},
     "output_type": "execute_result"
    }
   ],
   "source": [
    "popt, pcov = curve_fit(model_Dopt, C, Dopt)\n",
    "k2, beta = popt\n",
    "k2, beta"
   ]
  },
  {
   "cell_type": "code",
   "execution_count": 22,
   "id": "b581b81b-0845-4d2d-96de-29fde99451c4",
   "metadata": {},
   "outputs": [
    {
     "data": {
      "text/plain": [
       "337.0158307542807"
      ]
     },
     "execution_count": 22,
     "metadata": {},
     "output_type": "execute_result"
    }
   ],
   "source": [
    "D = model_Dopt(10**23, k2, beta)\n",
    "D/10**9"
   ]
  },
  {
   "cell_type": "code",
   "execution_count": 23,
   "id": "ba6dceb6-d816-478e-b0f0-e0ef7276ff4c",
   "metadata": {},
   "outputs": [
    {
     "data": {
      "text/plain": [
       "1331.7447859915576"
      ]
     },
     "execution_count": 23,
     "metadata": {},
     "output_type": "execute_result"
    }
   ],
   "source": [
    "D = model_Dopt(10**24, k2, beta)\n",
    "D/10**9"
   ]
  },
  {
   "cell_type": "code",
   "execution_count": 24,
   "id": "77278ac5-50ff-4974-9adf-dcd573f85607",
   "metadata": {},
   "outputs": [
    {
     "data": {
      "image/png": "[encoded data removed]",
      "text/plain": [
       "<Figure size 800x500 with 1 Axes>"
      ]
     },
     "metadata": {},
     "output_type": "display_data"
    }
   ],
   "source": [
    "plot_values(C, Dopt)"
   ]
  },
  {
   "cell_type": "code",
   "execution_count": 25,
   "id": "72aea933-59a2-400d-bdd5-e98b53cf8e33",
   "metadata": {},
   "outputs": [
    {
     "data": {
      "image/png": "[encoded data removed]",
      "text/plain": [
       "<Figure size 800x500 with 1 Axes>"
      ]
     },
     "metadata": {},
     "output_type": "display_data"
    }
   ],
   "source": [
    "plot_function(model_Dopt, x_range=[1e10, 1e21], k2=k2, beta=beta)"
   ]
  },
  {
   "cell_type": "code",
   "execution_count": null,
   "id": "76b88794-81b5-4eb6-8a60-6842e15f1ae1",
   "metadata": {},
   "outputs": [],
   "source": []
  },
  {
   "cell_type": "code",
   "execution_count": 32,
   "id": "dd1df517-7885-43bf-9ed7-852f4fd28c23",
   "metadata": {},
   "outputs": [
    {
     "data": {
      "text/plain": [
       "True"
      ]
     },
     "execution_count": 32,
     "metadata": {},
     "output_type": "execute_result"
    }
   ],
   "source": []
  },
  {
   "cell_type": "markdown",
   "id": "e1a5933e-6543-495a-8f2a-ad598f281df9",
   "metadata": {},
   "source": [
    "# Scaling laws"
   ]
  },
  {
   "cell_type": "code",
   "execution_count": null,
   "id": "fd71d099-f8a2-4447-8ed4-5f1ea21b6f90",
   "metadata": {},
   "outputs": [],
   "source": []
  },
  {
   "cell_type": "code",
   "execution_count": null,
   "id": "35176e44-1bd6-42ee-af20-50f1104f9cb0",
   "metadata": {},
   "outputs": [],
   "source": []
  },
  {
   "cell_type": "code",
   "execution_count": null,
   "id": "f78279ad-e75d-4e84-930c-746fc2c40563",
   "metadata": {},
   "outputs": [],
   "source": []
  },
  {
   "cell_type": "code",
   "execution_count": null,
   "id": "6308260a-f1e3-4556-8701-fc0a2cb85582",
   "metadata": {},
   "outputs": [],
   "source": []
  },
  {
   "cell_type": "code",
   "execution_count": null,
   "id": "047851cc-9d49-4ec1-8603-5bd1cd67cb89",
   "metadata": {},
   "outputs": [],
   "source": []
  },
  {
   "cell_type": "code",
   "execution_count": null,
   "id": "184b415f-6cc5-4f28-90c8-b5ddec6ab60a",
   "metadata": {},
   "outputs": [],
   "source": []
  },
  {
   "cell_type": "code",
   "execution_count": null,
   "id": "0ffe9ad8-cc16-485d-ada5-498413f27c6f",
   "metadata": {},
   "outputs": [],
   "source": []
  }
 ],
 "metadata": {
  "kernelspec": {
   "display_name": "Python 3 (ipykernel)",
   "language": "python",
   "name": "python3"
  },
  "language_info": {
   "codemirror_mode": {
    "name": "ipython",
    "version": 3
   },
   "file_extension": ".py",
   "mimetype": "text/x-python",
   "name": "python",
   "nbconvert_exporter": "python",
   "pygments_lexer": "ipython3",
   "version": "3.10.15"
  }
 },
 "nbformat": 4,
 "nbformat_minor": 5
}
